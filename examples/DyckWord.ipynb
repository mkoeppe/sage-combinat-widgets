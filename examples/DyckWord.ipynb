{
 "cells": [
  {
   "cell_type": "markdown",
   "metadata": {},
   "source": [
    "# Tests for cell_options"
   ]
  },
  {
   "cell_type": "markdown",
   "metadata": {},
   "source": [
    "## Just one ButtonCell"
   ]
  },
  {
   "cell_type": "code",
   "execution_count": null,
   "metadata": {},
   "outputs": [],
   "source": [
    "from ipywidgets import Layout\n",
    "from sage_combinat_widgets.grid_view_widget import *\n",
    "lyt =  Layout(width='40px', height='40px', padding=\"0\", margin=\"0\", border=\"1px solid yellow\")\n",
    "b = ButtonCell(False, disabled=True, layout=lyt)\n",
    "b"
   ]
  },
  {
   "cell_type": "code",
   "execution_count": null,
   "metadata": {},
   "outputs": [],
   "source": [
    "b.style.background_image = 'url(\"trait-desc-big.png\")'"
   ]
  },
  {
   "cell_type": "markdown",
   "metadata": {},
   "source": [
    "## cell_options passed directly to the widget"
   ]
  },
  {
   "cell_type": "code",
   "execution_count": null,
   "metadata": {},
   "outputs": [],
   "source": [
    "from sage.graphs.generators.families import AztecDiamondGraph\n",
    "az = AztecDiamondGraph(2)\n",
    "from sage_combinat_widgets import BlankButton\n",
    "waz1 = GridViewWidget(az, cell_layout=lyt,\n",
    "                     cell_widget_classes=[ButtonCell],\n",
    "                     blank_widget_class=BlankButton,\n",
    "                     cell_options={\n",
    "                         (0,1):{'disabled': True, 'background_image': 'url(\"trait-desc-big.png\")'},\n",
    "                         (0,2):{'disabled': True, 'background_color': 'lightpink'},\n",
    "                         (1,0):{'disabled': True, 'label': 'OK'},\n",
    "                         (1,1):{'disabled': True, 'label': 'RED', 'color': 'red'}\n",
    "                     }\n",
    "    )\n",
    "waz1"
   ]
  },
  {
   "cell_type": "markdown",
   "metadata": {},
   "source": [
    "## cell_options computed within adapter"
   ]
  },
  {
   "cell_type": "markdown",
   "metadata": {},
   "source": [
    "We represent our Dyck word with a grid of buttons.\n",
    "\n",
    "We will set backgrounds to these buttons, cells corresponding to ones will have a raising segment background, while those corresponding to zeros will have a descending segment.\n",
    "\n",
    "These buttons are disabled, (ie always False), but, as we need to positions \"up\" and \"down\", we will, internally, keep boolean values:\n",
    "\n",
    "* 1 -> True\n",
    "* 0 -> False\n",
    "\n",
    "(NB : there should be no need to define 'cell_to_display' as these are natural type castings)"
   ]
  },
  {
   "cell_type": "code",
   "execution_count": null,
   "metadata": {},
   "outputs": [],
   "source": [
    "from sage_widget_adapters.generic_grid_view_adapter import GridViewAdapter\n",
    "#svg_asc = '<svg height=\"100\" width=\"100\">' + \\\n",
    "#'<line x1=\"5\" y1=\"95\" x2=\"95\" y2=\"5\" style=\"stroke:rgb(0,0,0);stroke-width:8\" />' + \\\n",
    "#'</svg>'\n",
    "#svg_desc = '<svg height=\"100\" width=\"100\">' + \\\n",
    "#'<line x1=\"5\" y1=\"5\" x2=\"95\" y2=\"95\" style=\"stroke:rgb(0,0,0);stroke-width:8\" />' + \\\n",
    "#'</svg>'\n",
    "class DyckWordAdapter(GridViewAdapter):\n",
    "    objclass = DyckWord\n",
    "    celltype = bool\n",
    "    cellzero = False # disputable\n",
    "\n",
    "    @staticmethod\n",
    "    def compute_cells(obj):\n",
    "        # In order to keep \"natural\" coordinates,\n",
    "        # we probably need to display our widget French-Style\n",
    "        cells = {}\n",
    "        x,y = (-1,-1)\n",
    "        old_val = True \n",
    "        for i in obj:\n",
    "            y += 1\n",
    "            val = bool(i)\n",
    "            if val == old_val:\n",
    "                if i == 1:\n",
    "                    x += 1\n",
    "                else:\n",
    "                    x -= 1\n",
    "            cells[(x,y)] = val\n",
    "            old_val = val\n",
    "        cell_options = {}\n",
    "        for pos in cells:\n",
    "            options = {}\n",
    "            options['label'] = ''\n",
    "            options['disabled'] = True\n",
    "            options['background_color'] = 'white'\n",
    "            if cells[pos] is True:\n",
    "                options['background_image'] = \"url('trait-asc.png')\"\n",
    "            else:\n",
    "                options['background_image'] = 'url(\"trait-desc-big.png\")'\n",
    "            cell_options[pos] = options\n",
    "        #print(cell_options)\n",
    "        return cells, cell_options\n"
   ]
  },
  {
   "cell_type": "code",
   "execution_count": null,
   "metadata": {},
   "outputs": [],
   "source": [
    "dw = DyckWords(3).random_element()\n",
    "dw"
   ]
  },
  {
   "cell_type": "code",
   "execution_count": null,
   "metadata": {},
   "outputs": [],
   "source": [
    "adapter = DyckWordAdapter()\n",
    "#adapter.compute_cells(dw)"
   ]
  },
  {
   "cell_type": "code",
   "execution_count": null,
   "metadata": {},
   "outputs": [],
   "source": [
    "from sage_combinat_widgets.grid_view_widget import GridViewWidget, ButtonCell\n",
    "from ipywidgets import Layout\n",
    "lyt = Layout(width='40px', height='40px', padding=\"0\", margin=\"0\", border=\"2px solid white\")\n",
    "w = GridViewWidget(dw, adapter, display_convention='fr',\n",
    "                   cell_widget_classes=[ButtonCell], cell_layout=lyt)"
   ]
  },
  {
   "cell_type": "code",
   "execution_count": null,
   "metadata": {},
   "outputs": [],
   "source": [
    "w"
   ]
  },
  {
   "cell_type": "code",
   "execution_count": null,
   "metadata": {},
   "outputs": [],
   "source": [
    "w.get_child((0,0)).__dict__\n",
    "#w.total_height"
   ]
  },
  {
   "cell_type": "code",
   "execution_count": null,
   "metadata": {},
   "outputs": [],
   "source": [
    "#w.comm.__dict__, \n",
    "w._model_id, id(w), id(w.comm), \"%x\" % id(w)\n"
   ]
  }
 ],
 "metadata": {
  "kernelspec": {
   "display_name": "SageMath 8.6",
   "language": "",
   "name": "sagemath"
  },
  "language_info": {
   "codemirror_mode": {
    "name": "ipython",
    "version": 3
   },
   "file_extension": ".py",
   "mimetype": "text/x-python",
   "name": "python",
   "nbconvert_exporter": "python",
   "pygments_lexer": "ipython3",
   "version": "3.6.6"
  }
 },
 "nbformat": 4,
 "nbformat_minor": 2
}
