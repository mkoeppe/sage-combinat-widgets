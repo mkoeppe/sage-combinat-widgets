{
 "cells": [
  {
   "cell_type": "code",
   "execution_count": null,
   "metadata": {},
   "outputs": [],
   "source": [
    "x = DyckWords(20).random_element()\n",
    "x"
   ]
  },
  {
   "cell_type": "markdown",
   "metadata": {},
   "source": [
    "We represent our Dyck word with a grid of buttons.\n",
    "\n",
    "We will set backgrounds to these buttons, cells corresponding to ones will have a raising segment background, while those corresponding to zeros will have a descending segment.\n",
    "\n",
    "These buttons are disabled, (ie always False), but, as we need to positions \"up\" and \"down\", we will, internally, keep boolean values:\n",
    "\n",
    "* 1 -> True\n",
    "* 0 -> False\n",
    "\n",
    "(NB : there should be no need to define 'cell_to_display' as these are natural type castings)"
   ]
  },
  {
   "cell_type": "code",
   "execution_count": null,
   "metadata": {},
   "outputs": [],
   "source": [
    "from sage_widget_adapters.generic_grid_view_adapter import GridViewAdapter\n",
    "svg_asc = '<svg height=\"100\" width=\"100\">' + \\\n",
    "'<line x1=\"5\" y1=\"95\" x2=\"95\" y2=\"5\" style=\"stroke:rgb(0,0,0);stroke-width:8\" />' + \\\n",
    "'</svg>'\n",
    "svg_desc = '<svg height=\"100\" width=\"100\">' + \\\n",
    "'<line x1=\"5\" y1=\"5\" x2=\"95\" y2=\"95\" style=\"stroke:rgb(0,0,0);stroke-width:8\" />' + \\\n",
    "'</svg>'\n",
    "class DyckWordAdapter(GridViewAdapter):\n",
    "    objclass = DyckWord\n",
    "    celltype = bool\n",
    "    cellzero = False # disputable\n",
    "\n",
    "    @staticmethod\n",
    "    def compute_cells(obj):\n",
    "        # In order to keep \"natural\" coordinates,\n",
    "        # we probably need to display our widget French-Style\n",
    "        cells = {}\n",
    "        x,y = (-1,-1)\n",
    "        old_val = True \n",
    "        for i in obj:\n",
    "            y += 1\n",
    "            val = bool(i)\n",
    "            if val == old_val:\n",
    "                if i == 1:\n",
    "                    x += 1\n",
    "                else:\n",
    "                    x -= 1\n",
    "            cells[(x,y)] = val\n",
    "            old_val = val\n",
    "        cell_options = {}\n",
    "        for pos in cells:\n",
    "            options = {}\n",
    "            options['label'] = ''\n",
    "            if cells[pos] is True:\n",
    "                options['background'] = svg_asc\n",
    "            else:\n",
    "                options['background'] = svg_desc\n",
    "            cell_options[pos] = options\n",
    "        return cells, cell_options\n"
   ]
  },
  {
   "cell_type": "code",
   "execution_count": null,
   "metadata": {},
   "outputs": [],
   "source": [
    "dw = DyckWords(3).random_element()\n",
    "dw"
   ]
  },
  {
   "cell_type": "code",
   "execution_count": null,
   "metadata": {},
   "outputs": [],
   "source": [
    "adapter = DyckWordAdapter()\n",
    "adapter.compute_cells(dw)"
   ]
  },
  {
   "cell_type": "code",
   "execution_count": null,
   "metadata": {},
   "outputs": [],
   "source": [
    "from sage_combinat_widgets import GridViewWidget, DisabledButtonCell\n",
    "from ipywidgets import Layout\n",
    "lyt = Layout(width='2em', height='2em', padding=\"0\", margin=\"0\")\n",
    "w = GridViewWidget(dw, adapter, display_convention='fr',\n",
    "                   cell_widget_classes=[DisabledButtonCell], cell_layout=lyt)\n",
    "w"
   ]
  }
 ],
 "metadata": {
  "kernelspec": {
   "display_name": "SageMath 8.6",
   "language": "",
   "name": "sagemath"
  },
  "language_info": {
   "codemirror_mode": {
    "name": "ipython",
    "version": 3
   },
   "file_extension": ".py",
   "mimetype": "text/x-python",
   "name": "python",
   "nbconvert_exporter": "python",
   "pygments_lexer": "ipython3",
   "version": "3.6.6"
  }
 },
 "nbformat": 4,
 "nbformat_minor": 2
}
